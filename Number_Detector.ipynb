{
  "nbformat": 4,
  "nbformat_minor": 0,
  "metadata": {
    "colab": {
      "provenance": []
    },
    "kernelspec": {
      "name": "python3",
      "display_name": "Python 3"
    },
    "language_info": {
      "name": "python"
    }
  },
  "cells": [
    {
      "cell_type": "code",
      "execution_count": 1,
      "metadata": {
        "id": "Zzw8M_0AMa_y"
      },
      "outputs": [],
      "source": [
        "import numpy as np\n",
        "import keras\n",
        "from keras.models import Sequential\n",
        "from keras.layers import Dense, Dropout\n",
        "import tensorflow as tf\n",
        "from tensorflow.keras.layers import LeakyReLU"
      ]
    },
    {
      "cell_type": "code",
      "source": [
        "from keras.datasets import mnist\n",
        "(x_train, y_train), (x_test, y_test) = mnist.load_data()\n",
        "y_train = keras.utils.to_categorical(y_train, 10)\n",
        "y_test = keras.utils.to_categorical(y_test, 10)"
      ],
      "metadata": {
        "id": "gpcWA35kkGnp",
        "colab": {
          "base_uri": "https://localhost:8080/"
        },
        "outputId": "bf9c6888-52ac-43f8-cfac-085339124b63"
      },
      "execution_count": 2,
      "outputs": [
        {
          "output_type": "stream",
          "name": "stdout",
          "text": [
            "Downloading data from https://storage.googleapis.com/tensorflow/tf-keras-datasets/mnist.npz\n",
            "11490434/11490434 [==============================] - 0s 0us/step\n"
          ]
        }
      ]
    },
    {
      "cell_type": "code",
      "source": [
        "x_train = x_train.reshape(60000, 784)\n",
        "x_test = x_test.reshape(10000, 784)"
      ],
      "metadata": {
        "id": "ADtFHq8YlMZw"
      },
      "execution_count": 3,
      "outputs": []
    },
    {
      "cell_type": "code",
      "source": [
        "model = Sequential()\n",
        "model.add(tf.keras.layers.Dense(512, activation=LeakyReLU(alpha=0.1), input_dim=784))\n",
        "model.add(Dropout(0.25))\n",
        "model.add(Dense(units=10, activation='softmax'))\n",
        "model.compile(loss='categorical_crossentropy', optimizer='adam', metrics=['accuracy'])"
      ],
      "metadata": {
        "id": "O-H9R2IcmoKl"
      },
      "execution_count": 4,
      "outputs": []
    },
    {
      "cell_type": "code",
      "source": [
        "batch_size = 300\n",
        "epochs = 12\n",
        "model.fit(x_train, y_train, batch_size=batch_size, epochs=epochs, verbose=2)"
      ],
      "metadata": {
        "colab": {
          "base_uri": "https://localhost:8080/"
        },
        "id": "qAZtM4cvnd4g",
        "outputId": "6ea3b39c-f888-4f21-f5d2-28f2457c8c3a"
      },
      "execution_count": 5,
      "outputs": [
        {
          "output_type": "stream",
          "name": "stdout",
          "text": [
            "Epoch 1/12\n",
            "200/200 - 4s - loss: 7.1477 - accuracy: 0.8755 - 4s/epoch - 21ms/step\n",
            "Epoch 2/12\n",
            "200/200 - 3s - loss: 1.5766 - accuracy: 0.9293 - 3s/epoch - 15ms/step\n",
            "Epoch 3/12\n",
            "200/200 - 5s - loss: 1.1606 - accuracy: 0.9439 - 5s/epoch - 23ms/step\n",
            "Epoch 4/12\n",
            "200/200 - 3s - loss: 0.9543 - accuracy: 0.9516 - 3s/epoch - 15ms/step\n",
            "Epoch 5/12\n",
            "200/200 - 3s - loss: 0.7968 - accuracy: 0.9567 - 3s/epoch - 15ms/step\n",
            "Epoch 6/12\n",
            "200/200 - 3s - loss: 0.6634 - accuracy: 0.9632 - 3s/epoch - 15ms/step\n",
            "Epoch 7/12\n",
            "200/200 - 5s - loss: 0.6122 - accuracy: 0.9651 - 5s/epoch - 23ms/step\n",
            "Epoch 8/12\n",
            "200/200 - 3s - loss: 0.5619 - accuracy: 0.9671 - 3s/epoch - 15ms/step\n",
            "Epoch 9/12\n",
            "200/200 - 3s - loss: 0.5202 - accuracy: 0.9693 - 3s/epoch - 16ms/step\n",
            "Epoch 10/12\n",
            "200/200 - 3s - loss: 0.4609 - accuracy: 0.9718 - 3s/epoch - 15ms/step\n",
            "Epoch 11/12\n",
            "200/200 - 5s - loss: 0.4786 - accuracy: 0.9722 - 5s/epoch - 24ms/step\n",
            "Epoch 12/12\n",
            "200/200 - 3s - loss: 0.4826 - accuracy: 0.9712 - 3s/epoch - 15ms/step\n"
          ]
        },
        {
          "output_type": "execute_result",
          "data": {
            "text/plain": [
              "<keras.src.callbacks.History at 0x7f01ba2a2200>"
            ]
          },
          "metadata": {},
          "execution_count": 5
        }
      ]
    },
    {
      "cell_type": "code",
      "source": [
        "loss, accuracy = model.evaluate(x_test, y_test, verbose=2)\n",
        "print('Test accuracy:', accuracy)"
      ],
      "metadata": {
        "colab": {
          "base_uri": "https://localhost:8080/"
        },
        "id": "8F7-tUMsnkdB",
        "outputId": "b4a5741a-7adc-427a-9ab2-554e34066149"
      },
      "execution_count": 6,
      "outputs": [
        {
          "output_type": "stream",
          "name": "stdout",
          "text": [
            "313/313 - 1s - loss: 0.7111 - accuracy: 0.9687 - 1s/epoch - 3ms/step\n",
            "Test accuracy: 0.9686999917030334\n"
          ]
        }
      ]
    },
    {
      "cell_type": "code",
      "source": [],
      "metadata": {
        "id": "-X6j28vt78o0"
      },
      "execution_count": null,
      "outputs": []
    }
  ]
}